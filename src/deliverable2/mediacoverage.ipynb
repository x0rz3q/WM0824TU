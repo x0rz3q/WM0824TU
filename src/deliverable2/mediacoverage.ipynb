{
 "cells": [
  {
   "cell_type": "code",
   "execution_count": 1,
   "metadata": {},
   "outputs": [],
   "source": [
    "import numpy as np\n",
    "import pandas as pd\n",
    "import matplotlib.pyplot as plt"
   ]
  },
  {
   "cell_type": "code",
   "execution_count": 2,
   "metadata": {},
   "outputs": [
    {
     "name": "stdout",
     "output_type": "stream",
     "text": [
      "Size before filter: 564204\n",
      "Size after filtering custom listing: 560002\n",
      "Size after filtering drugs: 544942\n",
      "Size after filtering misc: 542799\n",
      "Size after filtering guns: 541419\n"
     ]
    }
   ],
   "source": [
    "from argparse import ArgumentParser\n",
    "import sqlite3\n",
    "from os import path\n",
    "import pandas as pd\n",
    "from filter import Filter\n",
    "\n",
    "def load_dataset(location):\n",
    "    connection = sqlite3.connect(location)\n",
    "\n",
    "    df = pd.read_sql(\"SELECT * FROM feedbacks left join items on feedbacks.item_hash = items.item_hash\", connection)\n",
    "    # remove duplicated columns\n",
    "    df = df.loc[:, ~df.columns.duplicated()]\n",
    "    # convert bytestrings\n",
    "    df['giver_hash'] = df['giver_hash'].str.decode(\"utf-8\")\n",
    "    df['receiver_hash'] = df['receiver_hash'].str.decode(\"utf-8\")\n",
    "    df['vendor_hash'] = df['vendor_hash'].str.decode(\"utf-8\")\n",
    "    # convert timestamps\n",
    "    df['date'] = pd.to_datetime(df['date'])\n",
    "    df['first_observed'] = pd.to_datetime(df['first_observed'])\n",
    "    df['last_observed'] = pd.to_datetime(df['last_observed'])\n",
    "    # close connection\n",
    "    connection.close()\n",
    "\n",
    "    return df\n",
    "\n",
    "df = load_dataset('../../data/underground_cyber.sqlite3')\n",
    "df = Filter.apply_all_filters(df)"
   ]
  },
  {
   "cell_type": "code",
   "execution_count": 3,
   "metadata": {},
   "outputs": [],
   "source": [
    "df_bm = pd.read_csv('../../data/black_market_media_coverage.csv')[['date', 'count']]\n",
    "df_bm['date'] = pd.to_datetime(df['date'])\n",
    "df_bm = df_bm.sort_values(by='date').reset_index(drop=True).dropna()\n",
    "df_bm['date'] = pd.DatetimeIndex(df_bm['date']).to_period('M')\n",
    "df_bm = df_bm.groupby('date').sum()\n",
    "df_bm"
   ]
  },
  {
   "cell_type": "code",
   "execution_count": 4,
   "metadata": {},
   "outputs": [
    {
     "data": {
      "text/html": [
       "<div>\n",
       "<style scoped>\n",
       "    .dataframe tbody tr th:only-of-type {\n",
       "        vertical-align: middle;\n",
       "    }\n",
       "\n",
       "    .dataframe tbody tr th {\n",
       "        vertical-align: top;\n",
       "    }\n",
       "\n",
       "    .dataframe thead th {\n",
       "        text-align: right;\n",
       "    }\n",
       "</style>\n",
       "<table border=\"1\" class=\"dataframe\">\n",
       "  <thead>\n",
       "    <tr style=\"text-align: right;\">\n",
       "      <th></th>\n",
       "      <th>total_sales</th>\n",
       "    </tr>\n",
       "    <tr>\n",
       "      <th>date</th>\n",
       "      <th></th>\n",
       "    </tr>\n",
       "  </thead>\n",
       "  <tbody>\n",
       "    <tr>\n",
       "      <th>2011-09</th>\n",
       "      <td>6.294461e+05</td>\n",
       "    </tr>\n",
       "    <tr>\n",
       "      <th>2011-10</th>\n",
       "      <td>4.636198e+05</td>\n",
       "    </tr>\n",
       "    <tr>\n",
       "      <th>2011-11</th>\n",
       "      <td>4.565829e+05</td>\n",
       "    </tr>\n",
       "    <tr>\n",
       "      <th>2011-12</th>\n",
       "      <td>4.991680e+05</td>\n",
       "    </tr>\n",
       "    <tr>\n",
       "      <th>2012-01</th>\n",
       "      <td>1.979368e+06</td>\n",
       "    </tr>\n",
       "    <tr>\n",
       "      <th>...</th>\n",
       "      <td>...</td>\n",
       "    </tr>\n",
       "    <tr>\n",
       "      <th>2017-01</th>\n",
       "      <td>1.259526e+08</td>\n",
       "    </tr>\n",
       "    <tr>\n",
       "      <th>2017-02</th>\n",
       "      <td>1.500545e+08</td>\n",
       "    </tr>\n",
       "    <tr>\n",
       "      <th>2017-03</th>\n",
       "      <td>1.577099e+08</td>\n",
       "    </tr>\n",
       "    <tr>\n",
       "      <th>2017-04</th>\n",
       "      <td>1.361209e+08</td>\n",
       "    </tr>\n",
       "    <tr>\n",
       "      <th>2017-05</th>\n",
       "      <td>1.065822e+08</td>\n",
       "    </tr>\n",
       "  </tbody>\n",
       "</table>\n",
       "<p>62 rows × 1 columns</p>\n",
       "</div>"
      ],
      "text/plain": [
       "          total_sales\n",
       "date                 \n",
       "2011-09  6.294461e+05\n",
       "2011-10  4.636198e+05\n",
       "2011-11  4.565829e+05\n",
       "2011-12  4.991680e+05\n",
       "2012-01  1.979368e+06\n",
       "...               ...\n",
       "2017-01  1.259526e+08\n",
       "2017-02  1.500545e+08\n",
       "2017-03  1.577099e+08\n",
       "2017-04  1.361209e+08\n",
       "2017-05  1.065822e+08\n",
       "\n",
       "[62 rows x 1 columns]"
      ]
     },
     "execution_count": 4,
     "metadata": {},
     "output_type": "execute_result"
    }
   ],
   "source": [
    "# Total revenue per month\n",
    "df_rev = df[['date', 'total_sales']].copy()\n",
    "df_rev['date'] = pd.DatetimeIndex(df_rev['date']).to_period('M')\n",
    "df_rev = df_rev.sort_values(by='date')\n",
    "df_rev = df_rev.groupby('date').sum()\n",
    "df_rev = df_rev[df_rev.index.isin(df_bm.index)]\n",
    "df_rev"
   ]
  },
  {
   "cell_type": "code",
   "execution_count": 5,
   "metadata": {},
   "outputs": [
    {
     "data": {
      "text/html": [
       "<div>\n",
       "<style scoped>\n",
       "    .dataframe tbody tr th:only-of-type {\n",
       "        vertical-align: middle;\n",
       "    }\n",
       "\n",
       "    .dataframe tbody tr th {\n",
       "        vertical-align: top;\n",
       "    }\n",
       "\n",
       "    .dataframe thead th {\n",
       "        text-align: right;\n",
       "    }\n",
       "</style>\n",
       "<table border=\"1\" class=\"dataframe\">\n",
       "  <thead>\n",
       "    <tr style=\"text-align: right;\">\n",
       "      <th></th>\n",
       "      <th>count</th>\n",
       "      <th>sales</th>\n",
       "    </tr>\n",
       "    <tr>\n",
       "      <th>date</th>\n",
       "      <th></th>\n",
       "      <th></th>\n",
       "    </tr>\n",
       "  </thead>\n",
       "  <tbody>\n",
       "    <tr>\n",
       "      <th>2011-09</th>\n",
       "      <td>296</td>\n",
       "      <td>6.294461e+05</td>\n",
       "    </tr>\n",
       "    <tr>\n",
       "      <th>2011-10</th>\n",
       "      <td>352</td>\n",
       "      <td>4.636198e+05</td>\n",
       "    </tr>\n",
       "    <tr>\n",
       "      <th>2011-11</th>\n",
       "      <td>636</td>\n",
       "      <td>4.565829e+05</td>\n",
       "    </tr>\n",
       "    <tr>\n",
       "      <th>2011-12</th>\n",
       "      <td>1181</td>\n",
       "      <td>4.991680e+05</td>\n",
       "    </tr>\n",
       "    <tr>\n",
       "      <th>2012-01</th>\n",
       "      <td>1215</td>\n",
       "      <td>1.979368e+06</td>\n",
       "    </tr>\n",
       "    <tr>\n",
       "      <th>...</th>\n",
       "      <td>...</td>\n",
       "      <td>...</td>\n",
       "    </tr>\n",
       "    <tr>\n",
       "      <th>2017-01</th>\n",
       "      <td>3867</td>\n",
       "      <td>1.259526e+08</td>\n",
       "    </tr>\n",
       "    <tr>\n",
       "      <th>2017-02</th>\n",
       "      <td>2321</td>\n",
       "      <td>1.500545e+08</td>\n",
       "    </tr>\n",
       "    <tr>\n",
       "      <th>2017-03</th>\n",
       "      <td>3543</td>\n",
       "      <td>1.577099e+08</td>\n",
       "    </tr>\n",
       "    <tr>\n",
       "      <th>2017-04</th>\n",
       "      <td>2864</td>\n",
       "      <td>1.361209e+08</td>\n",
       "    </tr>\n",
       "    <tr>\n",
       "      <th>2017-05</th>\n",
       "      <td>3821</td>\n",
       "      <td>1.065822e+08</td>\n",
       "    </tr>\n",
       "  </tbody>\n",
       "</table>\n",
       "<p>62 rows × 2 columns</p>\n",
       "</div>"
      ],
      "text/plain": [
       "         count         sales\n",
       "date                        \n",
       "2011-09    296  6.294461e+05\n",
       "2011-10    352  4.636198e+05\n",
       "2011-11    636  4.565829e+05\n",
       "2011-12   1181  4.991680e+05\n",
       "2012-01   1215  1.979368e+06\n",
       "...        ...           ...\n",
       "2017-01   3867  1.259526e+08\n",
       "2017-02   2321  1.500545e+08\n",
       "2017-03   3543  1.577099e+08\n",
       "2017-04   2864  1.361209e+08\n",
       "2017-05   3821  1.065822e+08\n",
       "\n",
       "[62 rows x 2 columns]"
      ]
     },
     "execution_count": 5,
     "metadata": {},
     "output_type": "execute_result"
    }
   ],
   "source": [
    "# Coverage of \"black market\"\n",
    "df_bm2 = df_bm.copy()\n",
    "df_bm2['sales'] = df_rev['total_sales']\n",
    "df_bm2"
   ]
  },
  {
   "cell_type": "code",
   "execution_count": 6,
   "metadata": {},
   "outputs": [
    {
     "data": {
      "text/html": [
       "<div>\n",
       "<style scoped>\n",
       "    .dataframe tbody tr th:only-of-type {\n",
       "        vertical-align: middle;\n",
       "    }\n",
       "\n",
       "    .dataframe tbody tr th {\n",
       "        vertical-align: top;\n",
       "    }\n",
       "\n",
       "    .dataframe thead th {\n",
       "        text-align: right;\n",
       "    }\n",
       "</style>\n",
       "<table border=\"1\" class=\"dataframe\">\n",
       "  <thead>\n",
       "    <tr style=\"text-align: right;\">\n",
       "      <th></th>\n",
       "      <th>count</th>\n",
       "      <th>sales</th>\n",
       "    </tr>\n",
       "  </thead>\n",
       "  <tbody>\n",
       "    <tr>\n",
       "      <th>count</th>\n",
       "      <td>1.000000</td>\n",
       "      <td>0.360127</td>\n",
       "    </tr>\n",
       "    <tr>\n",
       "      <th>sales</th>\n",
       "      <td>0.360127</td>\n",
       "      <td>1.000000</td>\n",
       "    </tr>\n",
       "  </tbody>\n",
       "</table>\n",
       "</div>"
      ],
      "text/plain": [
       "          count     sales\n",
       "count  1.000000  0.360127\n",
       "sales  0.360127  1.000000"
      ]
     },
     "execution_count": 6,
     "metadata": {},
     "output_type": "execute_result"
    }
   ],
   "source": [
    "df_bm2.corr(method='kendall')"
   ]
  },
  {
   "cell_type": "code",
   "execution_count": 9,
   "metadata": {},
   "outputs": [
    {
     "data": {
      "text/plain": [
       "'Correlation between media coverage of black markets and total sales'"
      ]
     },
     "execution_count": 9,
     "metadata": {},
     "output_type": "execute_result"
    }
   ],
   "source": [
    "'Correlation between media coverage of black markets and total sales'.capitalize()"
   ]
  },
  {
   "cell_type": "code",
   "execution_count": 15,
   "metadata": {},
   "outputs": [
    {
     "data": {
      "text/plain": [
       "'0.00003527'"
      ]
     },
     "execution_count": 15,
     "metadata": {},
     "output_type": "execute_result"
    }
   ],
   "source": [
    "format(p_value,'.8f')"
   ]
  },
  {
   "cell_type": "code",
   "execution_count": 18,
   "metadata": {},
   "outputs": [
    {
     "data": {
      "image/png": "[encoded data removed]",
      "text/plain": [
       "<Figure size 720x432 with 1 Axes>"
      ]
     },
     "metadata": {
      "needs_background": "light"
     },
     "output_type": "display_data"
    }
   ],
   "source": [
    "from scipy import stats\n",
    "from seaborn import regplot\n",
    "import matplotlib.pyplot as plt\n",
    "x = df_bm2['count'].tolist()\n",
    "y = df_bm2['sales'].tolist()\n",
    "corr, p_value = stats.kendalltau(x, y)\n",
    "plt.figure(figsize=(10,6))\n",
    "ax = regplot(x=x, y=y, marker=\"+\")\n",
    "ax.set(xlabel='Number of articles mentioning \"black market\"', ylabel='Total Sales (USD)', title='')\n",
    "\n",
    "ax.set_title('Correlation Between Media Coverage of Black Markets and Total Sales')\n",
    "ax.text(300, max(y)-20000000, r'$\\tau$=' + str(round(corr, 2)) + '\\np-value= ' + str(round(p_value, 6)))\n",
    "\n",
    "plt.savefig('mediacoverage_corr.pdf')\n",
    "\n",
    "plt.show()"
   ]
  },
  {
   "cell_type": "code",
   "execution_count": null,
   "metadata": {},
   "outputs": [],
   "source": []
  }
 ],
 "metadata": {
  "kernelspec": {
   "display_name": "Python 3",
   "language": "python",
   "name": "python3"
  },
  "language_info": {
   "codemirror_mode": {
    "name": "ipython",
    "version": 3
   },
   "file_extension": ".py",
   "mimetype": "text/x-python",
   "name": "python",
   "nbconvert_exporter": "python",
   "pygments_lexer": "ipython3",
   "version": "3.8.5"
  }
 },
 "nbformat": 4,
 "nbformat_minor": 4
}
