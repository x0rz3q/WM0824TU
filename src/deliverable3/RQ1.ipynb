{
 "cells": [
  {
   "cell_type": "code",
   "execution_count": 43,
   "metadata": {},
   "outputs": [],
   "source": [
    "import numpy as np\n",
    "import pandas as pd\n",
    "import matplotlib.pyplot as plt"
   ]
  },
  {
   "cell_type": "code",
   "execution_count": 44,
   "metadata": {
    "jupyter": {
     "source_hidden": true
    }
   },
   "outputs": [
    {
     "name": "stdout",
     "output_type": "stream",
     "text": [
      "Size before filter: 564204\n",
      "Size after filtering custom listing: 560002\n",
      "Size after filtering drugs: 544942\n",
      "Size after filtering misc: 542799\n",
      "Size after filtering guns: 541419\n"
     ]
    }
   ],
   "source": [
    "from argparse import ArgumentParser\n",
    "import sqlite3\n",
    "from os import path\n",
    "import pandas as pd\n",
    "\n",
    "class Filter:\n",
    "    guide_keywords = ['book', 'guide', 'synthes', 'manufacture', 'homemade', 'bundle', 'how to', 'tutorial', 'manual']\n",
    "\n",
    "    @staticmethod\n",
    "    def filter_custom_listings(df):\n",
    "        custom_listings = df[\n",
    "            df.title.str.lower().str.contains('custom')\n",
    "        ]\n",
    "\n",
    "        item_hashes = custom_listings.groupby('item_hash').filter(lambda x: len(x) <= 1)\n",
    "        return df[~df.item_hash.isin(item_hashes['item_hash'])]\n",
    "\n",
    "    @staticmethod\n",
    "    def filter_drug_listings(dfItems):\n",
    "        drug_keywords = [\n",
    "            'alprazolam', 'hulk', 'percocet', 'pfizer', 'tavor', '0mg', '0 mg', '5mg', '5 mg', '0ug', '0 ug', \n",
    "            '5ug', '5 ug', 'µ', 'glue', 'preroll', 'pre-roll', 'ferrari', 'tesla', 'calvin klein', 'methyl', \n",
    "            'kush', 'amphetamine', 'mdma', '4fa', 'viagra', 'captagon', 'blotter', 'pill', 'microdot', '2c-', \n",
    "            'ambien', 'olam', 'epam', 'blunt', 'fentanyl', 'pvp', 'oxycodone', 'xanax', 'tablets'\n",
    "        ]\n",
    "\n",
    "        df_guide_items = dfItems[dfItems['title'].str.lower().str.contains('|'.join(Filter.guide_keywords))]\n",
    "\n",
    "        df_drug_related_items = dfItems[dfItems['title'].str.lower().str.contains('|'.join(drug_keywords))]\n",
    "        df_drug_items = df_drug_related_items[~df_drug_related_items.index.isin(df_guide_items.index)]\n",
    "\n",
    "        return dfItems[~dfItems.index.isin(df_drug_items.index)]\n",
    "\n",
    "    @staticmethod\n",
    "    def filter_misc(df):\n",
    "        misc_keywords = ['tip jar', 'cyanid']\n",
    "\n",
    "        df_misc_items = df[df['title'].str.lower().str.contains('|'.join(misc_keywords))]\n",
    "\n",
    "        return df[~df.index.isin(df_misc_items.index)]\n",
    "\n",
    "    @staticmethod\n",
    "    def filter_guns(df):\n",
    "        df_guide_items = df[df['title'].str.lower().str.contains('|'.join(Filter.guide_keywords))]\n",
    "        \n",
    "        gun_keywords = [\n",
    "            'magnum', 'glock', 'stungun', 'stun gun', 'airsoft', 'ammunition', 'rounds'\n",
    "        ]\n",
    "\n",
    "        df_gun_items = df[df['title'].str.lower().str.contains('|'.join(gun_keywords)) | df['description'].str.lower().str.contains('|'.join(gun_keywords))]\n",
    "        df_exclude = df_gun_items[~df_gun_items.index.isin(df_guide_items.index)]\n",
    "\n",
    "        return df[~df.index.isin(df_exclude.index)]\n",
    "\n",
    "    @staticmethod\n",
    "    def separate_carding(df):\n",
    "        carding_keywords = [\n",
    "            'cvv', 'fullz', 'fulls', 'carding', 'vbv', 'avs', 'visa', 'mastercard', 'amex', 'ccv', 'pizza', 'slice', ' cc '\n",
    "        ]\n",
    "\n",
    "        non_carding_indicators = [\n",
    "            'vps', 'rdp', 'anonymous', 'anon', 'reloadable', 'server'\n",
    "        ]\n",
    "\n",
    "        carding_categories = [\n",
    "            'cash-out', 'other - account', 'other - guide', 'other'\n",
    "        ]\n",
    "\n",
    "        df_carding_items = df[(df['category'].isin(carding_categories)) & (df['title'].str.lower().str.contains('|'.join(carding_keywords)))]\n",
    "        df_carding_items = df_carding_items[~df_carding_items['title'].str.lower().str.contains('|'.join(non_carding_indicators))]\n",
    "\n",
    "        df.loc[df.index.isin(df_carding_items.index), 'category'] = 'carding'\n",
    "        \n",
    "        return df\n",
    "\n",
    "    @staticmethod\n",
    "    def apply_all_filters(df):\n",
    "        print(f\"Size before filter: {df.shape[0]}\")\n",
    "\n",
    "        df = Filter.filter_custom_listings(df)\n",
    "        print(f\"Size after filtering custom listing: {df.shape[0]}\")\n",
    "\n",
    "        df = Filter.filter_drug_listings(df)\n",
    "        print(f\"Size after filtering drugs: {df.shape[0]}\")\n",
    "\n",
    "        df = Filter.filter_misc(df)\n",
    "        print(f\"Size after filtering misc: {df.shape[0]}\")\n",
    "\n",
    "        df = Filter.filter_guns(df)\n",
    "        print(f\"Size after filtering guns: {df.shape[0]}\")\n",
    "\n",
    "        df = Filter.separate_carding(df)\n",
    "\n",
    "        return df\n",
    "\n",
    "def load_dataset(location):\n",
    "    connection = sqlite3.connect(location)\n",
    "\n",
    "    df = pd.read_sql(\"SELECT * FROM feedbacks left join items on feedbacks.item_hash = items.item_hash\", connection)\n",
    "    # remove duplicated columns\n",
    "    df = df.loc[:, ~df.columns.duplicated()]\n",
    "    # convert bytestrings\n",
    "    df['giver_hash'] = df['giver_hash'].str.decode(\"utf-8\")\n",
    "    df['receiver_hash'] = df['receiver_hash'].str.decode(\"utf-8\")\n",
    "    df['vendor_hash'] = df['vendor_hash'].str.decode(\"utf-8\")\n",
    "    # convert timestamps\n",
    "    df['date'] = pd.to_datetime(df['date'])\n",
    "    df['first_observed'] = pd.to_datetime(df['first_observed'])\n",
    "    df['last_observed'] = pd.to_datetime(df['last_observed'])\n",
    "    # close connection\n",
    "    connection.close()\n",
    "\n",
    "    return df\n",
    "\n",
    "df = load_dataset('../../data/underground_cyber.sqlite3')\n",
    "df = Filter.apply_all_filters(df)"
   ]
  },
  {
   "cell_type": "code",
   "execution_count": 185,
   "metadata": {},
   "outputs": [
    {
     "data": {
      "text/html": [
       "<div>\n",
       "<style scoped>\n",
       "    .dataframe tbody tr th:only-of-type {\n",
       "        vertical-align: middle;\n",
       "    }\n",
       "\n",
       "    .dataframe tbody tr th {\n",
       "        vertical-align: top;\n",
       "    }\n",
       "\n",
       "    .dataframe thead th {\n",
       "        text-align: right;\n",
       "    }\n",
       "</style>\n",
       "<table border=\"1\" class=\"dataframe\">\n",
       "  <thead>\n",
       "    <tr style=\"text-align: right;\">\n",
       "      <th></th>\n",
       "      <th>total_sales</th>\n",
       "    </tr>\n",
       "    <tr>\n",
       "      <th>date</th>\n",
       "      <th></th>\n",
       "    </tr>\n",
       "  </thead>\n",
       "  <tbody>\n",
       "    <tr>\n",
       "      <th>2011-06</th>\n",
       "      <td>1.312900e+03</td>\n",
       "    </tr>\n",
       "    <tr>\n",
       "      <th>2011-07</th>\n",
       "      <td>3.463049e+04</td>\n",
       "    </tr>\n",
       "    <tr>\n",
       "      <th>2011-08</th>\n",
       "      <td>2.992740e+05</td>\n",
       "    </tr>\n",
       "    <tr>\n",
       "      <th>2011-09</th>\n",
       "      <td>6.294461e+05</td>\n",
       "    </tr>\n",
       "    <tr>\n",
       "      <th>2011-10</th>\n",
       "      <td>4.636198e+05</td>\n",
       "    </tr>\n",
       "    <tr>\n",
       "      <th>...</th>\n",
       "      <td>...</td>\n",
       "    </tr>\n",
       "    <tr>\n",
       "      <th>2017-01</th>\n",
       "      <td>1.259526e+08</td>\n",
       "    </tr>\n",
       "    <tr>\n",
       "      <th>2017-02</th>\n",
       "      <td>1.500545e+08</td>\n",
       "    </tr>\n",
       "    <tr>\n",
       "      <th>2017-03</th>\n",
       "      <td>1.577099e+08</td>\n",
       "    </tr>\n",
       "    <tr>\n",
       "      <th>2017-04</th>\n",
       "      <td>1.361209e+08</td>\n",
       "    </tr>\n",
       "    <tr>\n",
       "      <th>2017-05</th>\n",
       "      <td>1.065822e+08</td>\n",
       "    </tr>\n",
       "  </tbody>\n",
       "</table>\n",
       "<p>67 rows × 1 columns</p>\n",
       "</div>"
      ],
      "text/plain": [
       "          total_sales\n",
       "date                 \n",
       "2011-06  1.312900e+03\n",
       "2011-07  3.463049e+04\n",
       "2011-08  2.992740e+05\n",
       "2011-09  6.294461e+05\n",
       "2011-10  4.636198e+05\n",
       "...               ...\n",
       "2017-01  1.259526e+08\n",
       "2017-02  1.500545e+08\n",
       "2017-03  1.577099e+08\n",
       "2017-04  1.361209e+08\n",
       "2017-05  1.065822e+08\n",
       "\n",
       "[67 rows x 1 columns]"
      ]
     },
     "execution_count": 185,
     "metadata": {},
     "output_type": "execute_result"
    }
   ],
   "source": [
    "# Total revenue per month\n",
    "# df_rev = df[df['marketplace'] == 'Alphabay']\n",
    "df_rev = df.copy()\n",
    "df_rev = df_rev[['date', 'total_sales']]\n",
    "df_rev['date'] = pd.DatetimeIndex(df_rev['date']).to_period('M')\n",
    "df_rev = df_rev.sort_values(by='date')\n",
    "df_rev_bydate = df_rev.groupby('date').sum()\n",
    "df_rev_bydate"
   ]
  },
  {
   "cell_type": "code",
   "execution_count": 191,
   "metadata": {},
   "outputs": [
    {
     "data": {
      "text/html": [
       "<div>\n",
       "<style scoped>\n",
       "    .dataframe tbody tr th:only-of-type {\n",
       "        vertical-align: middle;\n",
       "    }\n",
       "\n",
       "    .dataframe tbody tr th {\n",
       "        vertical-align: top;\n",
       "    }\n",
       "\n",
       "    .dataframe thead th {\n",
       "        text-align: right;\n",
       "    }\n",
       "</style>\n",
       "<table border=\"1\" class=\"dataframe\">\n",
       "  <thead>\n",
       "    <tr style=\"text-align: right;\">\n",
       "      <th></th>\n",
       "      <th>count</th>\n",
       "    </tr>\n",
       "    <tr>\n",
       "      <th>date</th>\n",
       "      <th></th>\n",
       "    </tr>\n",
       "  </thead>\n",
       "  <tbody>\n",
       "    <tr>\n",
       "      <th>2011-09</th>\n",
       "      <td>326</td>\n",
       "    </tr>\n",
       "    <tr>\n",
       "      <th>2011-10</th>\n",
       "      <td>348</td>\n",
       "    </tr>\n",
       "    <tr>\n",
       "      <th>2011-11</th>\n",
       "      <td>301</td>\n",
       "    </tr>\n",
       "    <tr>\n",
       "      <th>2011-12</th>\n",
       "      <td>663</td>\n",
       "    </tr>\n",
       "    <tr>\n",
       "      <th>2012-01</th>\n",
       "      <td>845</td>\n",
       "    </tr>\n",
       "    <tr>\n",
       "      <th>...</th>\n",
       "      <td>...</td>\n",
       "    </tr>\n",
       "    <tr>\n",
       "      <th>2017-01</th>\n",
       "      <td>1874</td>\n",
       "    </tr>\n",
       "    <tr>\n",
       "      <th>2017-02</th>\n",
       "      <td>1253</td>\n",
       "    </tr>\n",
       "    <tr>\n",
       "      <th>2017-03</th>\n",
       "      <td>1987</td>\n",
       "    </tr>\n",
       "    <tr>\n",
       "      <th>2017-04</th>\n",
       "      <td>1917</td>\n",
       "    </tr>\n",
       "    <tr>\n",
       "      <th>2017-05</th>\n",
       "      <td>2834</td>\n",
       "    </tr>\n",
       "  </tbody>\n",
       "</table>\n",
       "<p>62 rows × 1 columns</p>\n",
       "</div>"
      ],
      "text/plain": [
       "         count\n",
       "date          \n",
       "2011-09    326\n",
       "2011-10    348\n",
       "2011-11    301\n",
       "2011-12    663\n",
       "2012-01    845\n",
       "...        ...\n",
       "2017-01   1874\n",
       "2017-02   1253\n",
       "2017-03   1987\n",
       "2017-04   1917\n",
       "2017-05   2834\n",
       "\n",
       "[62 rows x 1 columns]"
      ]
     },
     "execution_count": 191,
     "metadata": {},
     "output_type": "execute_result"
    }
   ],
   "source": [
    "# title:(\"black market*\") OR (\"underground market*\") OR (\"dark net market*\") OR  (\"darkweb market*\"~10) OR (\"cryptomarket\") OR (\"tor market*\"~10) OR (\"darknet market*\"~10) OR (\"silk road\") OR (\"alphabay\") OR (\"silk road 2\") NOT (\"belt road\"~10)\n",
    "\n",
    "df_media = pd.read_csv('../../data/title-black-market-or-stories-over-time-20201022110708.csv')[['date', 'count']]\n",
    "df_media['date'] = pd.to_datetime(df['date'])\n",
    "df_media = df_media.sort_values(by='date').reset_index(drop=True).dropna()\n",
    "df_media['date'] = pd.DatetimeIndex(df_media['date']).to_period('M')\n",
    "df_media_bydate = df_media.groupby('date').sum()\n",
    "df_media_bydate"
   ]
  },
  {
   "cell_type": "code",
   "execution_count": null,
   "metadata": {
    "jupyter": {
     "source_hidden": true
    }
   },
   "outputs": [],
   "source": [
    "df_tor = pd.read_csv('../../data/webstats-tb-2013-01-01-2017-12-31.csv')[['date', 'initial_downloads']]\n",
    "df_tor['date'] = pd.to_datetime(df_tor['date'])\n",
    "df_tor = df_tor.sort_values(by='date').reset_index(drop=True).dropna()\n",
    "df_tor['date'] = pd.DatetimeIndex(df_tor['date']).to_period('M')\n",
    "df_tor_bydate = df_tor.groupby('date').sum()\n",
    "df_tor_bydate = df_tor_bydate[df_tor_bydate.index.isin(df_media_bydate.index)]\n",
    "df_tor_bydate"
   ]
  },
  {
   "cell_type": "code",
   "execution_count": 192,
   "metadata": {},
   "outputs": [
    {
     "data": {
      "text/html": [
       "<div>\n",
       "<style scoped>\n",
       "    .dataframe tbody tr th:only-of-type {\n",
       "        vertical-align: middle;\n",
       "    }\n",
       "\n",
       "    .dataframe tbody tr th {\n",
       "        vertical-align: top;\n",
       "    }\n",
       "\n",
       "    .dataframe thead th {\n",
       "        text-align: right;\n",
       "    }\n",
       "</style>\n",
       "<table border=\"1\" class=\"dataframe\">\n",
       "  <thead>\n",
       "    <tr style=\"text-align: right;\">\n",
       "      <th></th>\n",
       "      <th>count</th>\n",
       "      <th>total_sales</th>\n",
       "    </tr>\n",
       "  </thead>\n",
       "  <tbody>\n",
       "    <tr>\n",
       "      <th>count</th>\n",
       "      <td>1.000000</td>\n",
       "      <td>0.327513</td>\n",
       "    </tr>\n",
       "    <tr>\n",
       "      <th>total_sales</th>\n",
       "      <td>0.327513</td>\n",
       "      <td>1.000000</td>\n",
       "    </tr>\n",
       "  </tbody>\n",
       "</table>\n",
       "</div>"
      ],
      "text/plain": [
       "                count  total_sales\n",
       "count        1.000000     0.327513\n",
       "total_sales  0.327513     1.000000"
      ]
     },
     "execution_count": 192,
     "metadata": {},
     "output_type": "execute_result"
    }
   ],
   "source": [
    "df_corr = df_media_bydate.merge(df_rev_bydate, on='date')\n",
    "# df_corr['sales'] = df_rev_bydate['total_sales']\n",
    "df_corr.corr(method='kendall')"
   ]
  },
  {
   "cell_type": "code",
   "execution_count": 193,
   "metadata": {},
   "outputs": [
    {
     "name": "stdout",
     "output_type": "stream",
     "text": [
      "0.3275132733564705 0.00016991651537995867\n"
     ]
    },
    {
     "data": {
      "image/png": "[encoded data removed]",
      "text/plain": [
       "<Figure size 720x432 with 1 Axes>"
      ]
     },
     "metadata": {
      "needs_background": "light"
     },
     "output_type": "display_data"
    }
   ],
   "source": [
    "from scipy import stats\n",
    "from seaborn import regplot\n",
    "import matplotlib.pyplot as plt\n",
    "x = df_corr['count'].tolist()\n",
    "y = df_corr['total_sales'].tolist()\n",
    "corr, p_value = stats.kendalltau(x, y)\n",
    "print(corr, p_value)\n",
    "plt.figure(figsize=(10,6))\n",
    "ax = regplot(x=x, y=y, marker=\"+\")\n",
    "ax.set(xlabel='Number of articles mentioning \"black market\"', ylabel='Total Sales (USD)', title='')\n",
    "\n",
    "ax.set_title('Correlation Between Media Coverage of Black Markets and Total Sales')\n",
    "ax.text(min(x)+max(x)/30, max(y)-max(y)/20, r'$\\tau$=' + str(round(corr, 2)) + '\\np-value= ' + str(round(p_value, 6)))\n",
    "\n",
    "plt.savefig('mediacoverage_corr.pdf')\n",
    "\n",
    "plt.show()"
   ]
  },
  {
   "cell_type": "code",
   "execution_count": 189,
   "metadata": {},
   "outputs": [
    {
     "data": {
      "text/plain": [
       "array(['Alphabay', 'Silk Road 1', 'Evolution', 'Black Market Reloaded',\n",
       "       'Agora', 'Pandora', 'Hydra', 'Silk Road 2'], dtype=object)"
      ]
     },
     "execution_count": 189,
     "metadata": {},
     "output_type": "execute_result"
    }
   ],
   "source": [
    "df.marketplace.unique()"
   ]
  },
  {
   "cell_type": "code",
   "execution_count": 190,
   "metadata": {},
   "outputs": [
    {
     "data": {
      "text/plain": [
       "Timestamp('2017-05-26 00:00:00')"
      ]
     },
     "execution_count": 190,
     "metadata": {},
     "output_type": "execute_result"
    }
   ],
   "source": [
    "df.date.max()"
   ]
  }
 ],
 "metadata": {
  "kernelspec": {
   "display_name": "Python 3",
   "language": "python",
   "name": "python3"
  },
  "language_info": {
   "codemirror_mode": {
    "name": "ipython",
    "version": 3
   },
   "file_extension": ".py",
   "mimetype": "text/x-python",
   "name": "python",
   "nbconvert_exporter": "python",
   "pygments_lexer": "ipython3",
   "version": "3.8.5"
  }
 },
 "nbformat": 4,
 "nbformat_minor": 4
}
